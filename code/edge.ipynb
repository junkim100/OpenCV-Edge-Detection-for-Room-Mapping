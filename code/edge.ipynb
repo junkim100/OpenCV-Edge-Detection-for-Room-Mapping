{
 "cells": [
  {
   "cell_type": "markdown",
   "metadata": {},
   "source": [
    "# 1. Import Dependencies"
   ]
  },
  {
   "cell_type": "code",
   "execution_count": null,
   "metadata": {},
   "outputs": [],
   "source": [
    "import cv2\n",
    "import matplotlib.pyplot as plt\n",
    "import os\n",
    "import time"
   ]
  },
  {
   "cell_type": "markdown",
   "metadata": {},
   "source": [
    "# 2. Load Image"
   ]
  },
  {
   "cell_type": "code",
   "execution_count": null,
   "metadata": {},
   "outputs": [],
   "source": [
    "IMG_NAME = 'test2.jpg'"
   ]
  },
  {
   "cell_type": "code",
   "execution_count": null,
   "metadata": {},
   "outputs": [],
   "source": [
    "READ_PATH = '../data/images/'\n",
    "WRITE_PATH = '../data/results/'"
   ]
  },
  {
   "cell_type": "markdown",
   "metadata": {},
   "source": [
    "# 3. Edge Detection"
   ]
  },
  {
   "cell_type": "code",
   "execution_count": null,
   "metadata": {},
   "outputs": [],
   "source": [
    "def detect(img, t1, t2):\n",
    "    # gray = cv2.cvtColor(img, cv2.COLOR_BGR2GRAY)\n",
    "    blur = cv2.GaussianBlur(img, (3, 3), 0)\n",
    "    canny = cv2.Canny(blur, threshold1=t1, threshold2=t2)\n",
    "    # plt.imshow(canny)\n",
    "    return canny"
   ]
  },
  {
   "cell_type": "code",
   "execution_count": null,
   "metadata": {},
   "outputs": [],
   "source": [
    "# for img_name in os.listdir('../data/images'):\n",
    "#     if img_name.endswith('.jpg'):\n",
    "#         result = detect(cv2.imread(READ_PATH + img_name), 50, 150)\n",
    "#         cv2.imwrite(WRITE_PATH + img_name, result)"
   ]
  },
  {
   "cell_type": "markdown",
   "metadata": {},
   "source": [
    "# 4. Edge Detection On Video"
   ]
  },
  {
   "cell_type": "code",
   "execution_count": null,
   "metadata": {},
   "outputs": [],
   "source": [
    "def detectVideo(videoPath, t1, t2):\n",
    "    cap = cv2.VideoCapture(videoPath)\n",
    "\n",
    "    if (cap.isOpened() == False):\n",
    "        print(\"Error opening file...\")\n",
    "        return\n",
    "    \n",
    "    (sucess, image) = cap.read()\n",
    "\n",
    "    startTime = 0\n",
    "\n",
    "    while sucess:\n",
    "        currentTime = time.time()\n",
    "        fps = 1 / (currentTime - startTime)\n",
    "        startTime = currentTime\n",
    "\n",
    "        edge = detect(image, t1, t2)\n",
    "\n",
    "        cv2.putText(edge, \"FPS: \" + str(int(fps)), (20, 40), cv2.FONT_HERSHEY_SIMPLEX, 1, (255, 255, 255), 2)\n",
    "        cv2.imshow(\"Result\", edge)\n",
    "\n",
    "        key = cv2.waitKey(1) & 0xFF\n",
    "        if key == ord('q'):\n",
    "            break\n",
    "\n",
    "        (sucess, image) = cap.read()\n",
    "    \n",
    "    cv2.destroyAllWindows()"
   ]
  },
  {
   "cell_type": "code",
   "execution_count": null,
   "metadata": {},
   "outputs": [],
   "source": [
    "t1 = 70\n",
    "t2 = 75"
   ]
  },
  {
   "cell_type": "code",
   "execution_count": null,
   "metadata": {},
   "outputs": [],
   "source": [
    "detectVideo(\"./test/office1.mp4\", t1, t2)"
   ]
  },
  {
   "cell_type": "code",
   "execution_count": null,
   "metadata": {},
   "outputs": [],
   "source": [
    "# detectVideo(0, t1, t2)"
   ]
  }
 ],
 "metadata": {
  "interpreter": {
   "hash": "baa285821a8752bfc882d86be287656f4b65c77b0d6984d3512b254ad9cbbbca"
  },
  "kernelspec": {
   "display_name": "Python 3.9.7 ('base')",
   "language": "python",
   "name": "python3"
  },
  "language_info": {
   "codemirror_mode": {
    "name": "ipython",
    "version": 3
   },
   "file_extension": ".py",
   "mimetype": "text/x-python",
   "name": "python",
   "nbconvert_exporter": "python",
   "pygments_lexer": "ipython3",
   "version": "3.9.7"
  },
  "orig_nbformat": 4
 },
 "nbformat": 4,
 "nbformat_minor": 2
}
